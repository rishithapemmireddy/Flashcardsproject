{
  "nbformat": 4,
  "nbformat_minor": 0,
  "metadata": {
    "colab": {
      "provenance": [],
      "authorship_tag": "ABX9TyMiOPAT5rJ/zgcCeqAiIZSU",
      "include_colab_link": true
    },
    "kernelspec": {
      "name": "python3",
      "display_name": "Python 3"
    },
    "language_info": {
      "name": "python"
    }
  },
  "cells": [
    {
      "cell_type": "markdown",
      "metadata": {
        "id": "view-in-github",
        "colab_type": "text"
      },
      "source": [
        "<a href=\"https://colab.research.google.com/github/rishithapemmireddy/Flashcardsproject/blob/main/flashcards.ipynb\" target=\"_parent\"><img src=\"https://colab.research.google.com/assets/colab-badge.svg\" alt=\"Open In Colab\"/></a>"
      ]
    },
    {
      "cell_type": "code",
      "execution_count": 1,
      "metadata": {
        "colab": {
          "base_uri": "https://localhost:8080/"
        },
        "id": "H5bUDZYBHUfl",
        "outputId": "484d98a2-0f98-4dee-962c-c2b9be967285"
      },
      "outputs": [
        {
          "output_type": "stream",
          "name": "stdout",
          "text": [
            "Welcome to Language Learning Flashcards!\n",
            "\n",
            "Menu:\n",
            "1. Display a flashcard\n",
            "2. Take a quiz\n",
            "3. Quit\n",
            "Enter your choice: 1\n",
            "Word: yes\n",
            "Press Enter to reveal the translation... si\n",
            "Translation: sí\n",
            "\n",
            "Menu:\n",
            "1. Display a flashcard\n",
            "2. Take a quiz\n",
            "3. Quit\n",
            "Enter your choice: 3\n",
            "Thank you for using Language Learning Flashcards. Goodbye!\n"
          ]
        }
      ],
      "source": [
        "import random\n",
        "\n",
        "flashcards = {\n",
        "    'hello': 'hola',\n",
        "    'goodbye': 'adiós',\n",
        "    'thank you': 'gracias',\n",
        "    'yes': 'sí',\n",
        "    'no': 'no',\n",
        "    # Add more words and translations here\n",
        "}\n",
        "\n",
        "def display_flashcard():\n",
        "    random_word = random.choice(list(flashcards.keys()))\n",
        "    print(f\"Word: {random_word}\")\n",
        "    input(\"Press Enter to reveal the translation... \")\n",
        "    print(f\"Translation: {flashcards[random_word]}\")\n",
        "\n",
        "def quiz():\n",
        "    correct_answers = 0\n",
        "    total_questions = len(flashcards)\n",
        "\n",
        "    for word, translation in flashcards.items():\n",
        "        user_input = input(f\"What is the translation of '{word}'? \").lower()\n",
        "        if user_input == translation.lower():\n",
        "            correct_answers += 1\n",
        "\n",
        "    print(f\"You got {correct_answers} out of {total_questions} questions correct!\")\n",
        "\n",
        "def language_learning_flashcards():\n",
        "    print(\"Welcome to Language Learning Flashcards!\")\n",
        "\n",
        "    while True:\n",
        "        print(\"\\nMenu:\")\n",
        "        print(\"1. Display a flashcard\")\n",
        "        print(\"2. Take a quiz\")\n",
        "        print(\"3. Quit\")\n",
        "        choice = input(\"Enter your choice: \")\n",
        "\n",
        "        if choice == '1':\n",
        "            display_flashcard()\n",
        "        elif choice == '2':\n",
        "            quiz()\n",
        "        elif choice == '3':\n",
        "            print(\"Thank you for using Language Learning Flashcards. Goodbye!\")\n",
        "            break\n",
        "        else:\n",
        "            print(\"Invalid choice. Please enter a valid option.\")\n",
        "\n",
        "# Start the program\n",
        "language_learning_flashcards()"
      ]
    }
  ]
}